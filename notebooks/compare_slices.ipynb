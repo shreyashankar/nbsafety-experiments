{
 "cells": [
  {
   "cell_type": "code",
   "execution_count": 2,
   "id": "dd56d262-4e18-4dbc-8824-358d72b159df",
   "metadata": {},
   "outputs": [],
   "source": [
    "from pprint import pprint\n",
    "\n",
    "import matplotlib.pyplot as plt\n",
    "import numpy as np\n",
    "import pandas as pd\n",
    "import sqlite3"
   ]
  },
  {
   "cell_type": "code",
   "execution_count": 3,
   "id": "c7435076-abb1-474f-86c3-218911eb9e29",
   "metadata": {},
   "outputs": [],
   "source": [
    "# Params\n",
    "\n",
    "# Good for paper: (135, 330)\n",
    "# (397, 80)\n",
    "\n",
    "# maybe good: (83, 435)\n",
    "# TRACE_ID = 428\n",
    "# SESSION_ID = 836\n",
    "TRACE_ID = 9\n",
    "SESSION_ID = 507"
   ]
  },
  {
   "cell_type": "code",
   "execution_count": 4,
   "id": "9b0f29c9-7dfb-4885-a84d-88d6ced0aaf4",
   "metadata": {},
   "outputs": [],
   "source": [
    "# Open sql connection\n",
    "\n",
    "conn = sqlite3.connect('../data/traces.sqlite', isolation_level=None)\n",
    "cursor = conn.cursor()"
   ]
  },
  {
   "cell_type": "code",
   "execution_count": 5,
   "id": "9e5ccde7-be23-4b35-a448-972b05b196ee",
   "metadata": {},
   "outputs": [],
   "source": [
    "# Open nbsafety and nbgather\n",
    "\n",
    "f = open(f\"../results/nbsafety/{TRACE_ID}_{SESSION_ID}.txt\", \"r+\")\n",
    "nbsafety_slice = f.read()\n",
    "\n",
    "f = open(f\"../results/nbgather/{TRACE_ID}_{SESSION_ID}.txt\", \"r+\")\n",
    "nbgather_slice = f.read()"
   ]
  },
  {
   "cell_type": "code",
   "execution_count": 9,
   "id": "1132d3f3-0320-46a9-992b-01e93dc5718a",
   "metadata": {},
   "outputs": [
    {
     "name": "stdout",
     "output_type": "stream",
     "text": [
      "1, 2, 3, 4, 5, 6, 7, 9, 10, 11, 12, 13, 14, 15, 16, 17, 18, 19, 20, 21, 22, 23, 24, 25, 26, 27, 28, 29, 30, 31, 32, 33, 34, 35, 36, 37, 38, 39, 40, 41, 42, 43, 44, 45, 46, 47, 48, 49, 50, 51, 52, 53, 54, 55, 56, 57, 58, 61, 62, 63, 64, 65, 66, 67\n",
      "******** ALL CODE ********\n",
      "\n",
      "counter\n",
      "1                                                d = {}\n",
      "2                                            d['a'] = 1\n",
      "3                                                     d\n",
      "4                                                d = []\n",
      "5                                    d.append({'a': 1})\n",
      "                            ...                        \n",
      "63                                      d == json_array\n",
      "64                                                 data\n",
      "65    for k in ['y', 'o', 't']:\\n    print([o[k] if ...\n",
      "66    for k in ['y', 'o', 't']:\\n    data[k].append(...\n",
      "67                                                 data\n",
      "Name: source, Length: 64, dtype: object\n"
     ]
    }
   ],
   "source": [
    "# Open parsed cells from nbsafety\n",
    "\n",
    "f = open(\"../stats.txt\", \"r+\")\n",
    "lines = f.readlines()[1:]\n",
    "lines = [line[1:-1].split(\",\") for line in lines]\n",
    "nbsafety_processed_trace_sessions = {\n",
    "    (int(line[0].strip()), int(line[1].strip())): \",\".join(line[2:-4])[2:-1]\n",
    "    for line in lines\n",
    "}\n",
    "\n",
    "parsed_cells = nbsafety_processed_trace_sessions[(TRACE_ID, SESSION_ID)]\n",
    "df = pd.read_sql_query(f\"SELECT cell_execs.* from cell_execs WHERE trace={TRACE_ID} and session={SESSION_ID} and counter IN ({parsed_cells})\", conn)\n",
    "\n",
    "print(parsed_cells)\n",
    "print(\"******** ALL CODE ********\\n\")\n",
    "# print('\\n'.join(df.set_index(\"counter\").sort_index()[\"source\"].to_list()))\n",
    "print(df.set_index(\"counter\").sort_index()[\"source\"])"
   ]
  },
  {
   "cell_type": "code",
   "execution_count": 7,
   "id": "9111d606-4ca7-453f-8b56-2796d33cc4b4",
   "metadata": {},
   "outputs": [
    {
     "name": "stdout",
     "output_type": "stream",
     "text": [
      "******** NBSAFETY SLICE ********\n",
      "\n",
      "from collections import OrderedDict\n",
      "class DefaultOrderedDict(OrderedDict):\n",
      "    def __missing__(self, key):\n",
      "        self[key] = list()\n",
      "        return list()\n",
      "data = DefaultOrderedDict()\n",
      "for k in ['y', 'o', 't']:\n",
      "    print([(o[k] if (k in o) else (- 1)) for o in json_array])\n",
      "for k in ['y', 'o', 't']:\n",
      "    data[k].append([(o[k] if (k in o) else (- 1)) for o in json_array])\n",
      "data\n"
     ]
    }
   ],
   "source": [
    "print(\"******** NBSAFETY SLICE ********\\n\")\n",
    "print(nbsafety_slice)"
   ]
  },
  {
   "cell_type": "code",
   "execution_count": 8,
   "id": "aa3d4ed6-9cea-4add-8ed0-671147cdf2c6",
   "metadata": {},
   "outputs": [
    {
     "name": "stdout",
     "output_type": "stream",
     "text": [
      "******** NBGATHER SLICE ********\n",
      "\n",
      "class DefaultOrderedDict(OrderedDict):\n",
      "    def __missing__(self, key):\n",
      "        self[key] = list()\n",
      "        return list()\n",
      "data = DefaultOrderedDict()\n",
      "data\n"
     ]
    }
   ],
   "source": [
    "print(\"******** NBGATHER SLICE ********\\n\")\n",
    "print(nbgather_slice)"
   ]
  },
  {
   "cell_type": "code",
   "execution_count": 82,
   "id": "052735de-2bf0-4158-b88e-891d9a6ce6c9",
   "metadata": {},
   "outputs": [
    {
     "data": {
      "text/plain": [
       "array([[2, 0, 0],\n",
       "       [0, 2, 0],\n",
       "       [0, 0, 2]])"
      ]
     },
     "execution_count": 82,
     "metadata": {},
     "output_type": "execute_result"
    }
   ],
   "source": [
    "def complete_deg(n):\n",
    "    a=np.zeros((n, n), int)\n",
    "    np.fill_diagonal(a, n-1)\n",
    "    matrix = np.matrix(a)\n",
    "    return matrix    \n",
    "a = complete_deg(5)\n",
    "4*np.ones(5)\n",
    "def complete_deg(n):\n",
    "    a=np.zeros((n, n), int)\n",
    "    np.fill_diagonal(a, n-1)\n",
    "    return matrix    \n",
    "def complete_deg(n):\n",
    "    a=np.zeros((n, n), int)\n",
    "    matrix = np.fill_diagonal(a, n-1)\n",
    "    return matrix    \n",
    "def complete_deg(n):\n",
    "    a=np.zeros((n, n), int)\n",
    "    np.fill_diagonal(a, n-1)\n",
    "    return a    \n",
    "4*np.ones(5)\n",
    "def complete_adj(n):\n",
    "    a=np.zeros((n, n), int)\n",
    "    np.fill_diagonal(a, n-1)\n",
    "    a = a.trapose\n",
    "    return a\n",
    "def complete_adj(n):\n",
    "    a=np.zeros((n, n), int)\n",
    "    a.fill(1)\n",
    "    np.fill_diagonal(a, n-1)\n",
    "    return a\n",
    "def complete_adj(n):\n",
    "    a=np.zeros((n, n), int)\n",
    "    a.fill(1)\n",
    "    np.fill_diagonal(a, 0)\n",
    "    return a\n",
    "complete_deg(3)"
   ]
  },
  {
   "cell_type": "code",
   "execution_count": 84,
   "id": "88fe0eeb-173f-44a6-9e48-edf1d58b68d8",
   "metadata": {},
   "outputs": [
    {
     "data": {
      "text/plain": [
       "array([[2, 0, 0],\n",
       "       [0, 2, 0],\n",
       "       [0, 0, 2]])"
      ]
     },
     "execution_count": 84,
     "metadata": {},
     "output_type": "execute_result"
    }
   ],
   "source": [
    "def complete_deg(n):\n",
    "    a = np.zeros((n, n), int)\n",
    "    np.fill_diagonal(a, (n - 1))\n",
    "    matrix = np.matrix(a)\n",
    "    return matrix\n",
    "a = complete_deg(5)\n",
    "def complete_deg(n):\n",
    "    a = np.zeros((n, n), int)\n",
    "    np.fill_diagonal(a, (n - 1))\n",
    "    return a\n",
    "complete_deg(3)"
   ]
  },
  {
   "cell_type": "code",
   "execution_count": 87,
   "id": "94467dbd-b98d-496f-b325-0091df451ad3",
   "metadata": {},
   "outputs": [
    {
     "name": "stdout",
     "output_type": "stream",
     "text": [
      "---\n",
      "def complete_deg(n):\n",
      "    a=np.zeros((n, n), int)\n",
      "    np.fill_diagonal(a, n-1)\n",
      "    matrix = np.matrix(a)\n",
      "    return matrix    \n",
      "---\n",
      "a = complete_deg(5)\n",
      "---\n",
      "D.diagonal()\n",
      "---\n",
      "4*np.ones(5)\n",
      "---\n",
      "def complete_deg(n):\n",
      "    a=np.zeros((n, n), int)\n",
      "    np.fill_diagonal(a, n-1)\n",
      "    return matrix    \n",
      "---\n",
      "def complete_deg(n):\n",
      "    a=np.zeros((n, n), int)\n",
      "    matrix = np.fill_diagonal(a, n-1)\n",
      "    return matrix    \n",
      "---\n",
      "def complete_deg(n):\n",
      "    a=np.zeros((n, n), int)\n",
      "    np.fill_diagonal(a, n-1)\n",
      "    return a    \n",
      "---\n",
      "4*np.ones(5)\n",
      "---\n",
      "def complete_adj(n):\n",
      "    a=np.zeros((n, n), int)\n",
      "    np.fill_diagonal(a, n-1)\n",
      "    a = a.trapose\n",
      "    return a\n",
      "---\n",
      "def complete_adj(n):\n",
      "    a=np.zeros((n, n), int)\n",
      "    a.fill(1)\n",
      "    np.fill_diagonal(a, n-1)\n",
      "    return a\n",
      "---\n",
      "def complete_adj(n):\n",
      "    a=np.zeros((n, n), int)\n",
      "    a.fill(1)\n",
      "    np.fill_diagonal(a, 0)\n",
      "    return a\n",
      "---\n",
      "complete_deg(3)\n"
     ]
    }
   ],
   "source": [
    "for elem in df[\"source\"]:\n",
    "    print(\"---\")\n",
    "    print(elem)"
   ]
  },
  {
   "cell_type": "code",
   "execution_count": 98,
   "id": "1f029484-6205-46dc-856a-a3d8c6602d81",
   "metadata": {},
   "outputs": [
    {
     "data": {
      "text/plain": [
       "['from sklearn.datasets import load_breast_cancer',\n",
       " 'cancer=load_breast_cancer()',\n",
       " 'cancer=load_breast_cancer()',\n",
       " 'df = pd.DataFrame(cancer.data, columns = cancer.feature_names)',\n",
       " 'df.head()',\n",
       " 'mf.head()',\n",
       " 'mf = pd.DataFrame(cancer.data, columns = cancer.feature_names)',\n",
       " 'mf.head()',\n",
       " 'df.head()',\n",
       " 'data = pd.DataFrame(cancer.feature_names) #to display the labels',\n",
       " 'data.head() #head is used as print in pandas',\n",
       " 'data.head(30) #head is used as print in pandas',\n",
       " 'data.head(40) #head is used as print in pandas',\n",
       " 'data.head(all) #head is used as print in pandas',\n",
       " 'data.head(30) #head is used as print in pandas',\n",
       " 'df.shape',\n",
       " 'lf = pd.DataFrame(cancer.target)',\n",
       " 'lf.head()',\n",
       " 'lf.head(30)',\n",
       " 'lf = pd.DataFrame(cancer.target, columns = cancer.feature_names)',\n",
       " 'lf = pd.DataFrame(cancer.target)',\n",
       " 'df2 = DataFrame(X_train)',\n",
       " 'df2 = pdDataFrame(X_train)',\n",
       " 'df2 = pd.DataFrame(X_train)',\n",
       " 'df2.head()',\n",
       " 'df2.shape()',\n",
       " 'df2.shape',\n",
       " 'df = pd.DataFrame(cancer.data)',\n",
       " 'df.head()',\n",
       " 'df = pd.DataFrame(cancer.data, columns = cancer.feature_names)',\n",
       " 'df.head()',\n",
       " 'data = pd.DataFrame(cancer.feature_names) #to display the labels',\n",
       " 'data.head(30) #head is used as print in pandas',\n",
       " 'df.shape #dimensions',\n",
       " 'lf = pd.DataFrame(cancer.target)',\n",
       " 'lf.head(30)',\n",
       " 'df2 = pd.DataFrame(X_train)',\n",
       " 'df2.head()',\n",
       " 'df2.shape',\n",
       " 'df3.shape',\n",
       " 'df5= pd.DataFrame(Y_test)',\n",
       " 'df5.shape',\n",
       " 'log_reg = LogisticRegression()',\n",
       " 'log_reg.score(X_train,Y_test)',\n",
       " 'log_reg.score(X_train,Y_train)',\n",
       " 'log_reg.score(X_test,Y_test)']"
      ]
     },
     "execution_count": 98,
     "metadata": {},
     "output_type": "execute_result"
    }
   ],
   "source": [
    "df.set_index(\"counter\").sort_index()[\"source\"].to_list()"
   ]
  },
  {
   "cell_type": "code",
   "execution_count": null,
   "id": "831c325c-3cfe-469d-9802-027205e6f627",
   "metadata": {},
   "outputs": [],
   "source": []
  }
 ],
 "metadata": {
  "kernelspec": {
   "display_name": "Python 3",
   "language": "python",
   "name": "python3"
  },
  "language_info": {
   "codemirror_mode": {
    "name": "ipython",
    "version": 3
   },
   "file_extension": ".py",
   "mimetype": "text/x-python",
   "name": "python",
   "nbconvert_exporter": "python",
   "pygments_lexer": "ipython3",
   "version": "3.8.6"
  }
 },
 "nbformat": 4,
 "nbformat_minor": 5
}
