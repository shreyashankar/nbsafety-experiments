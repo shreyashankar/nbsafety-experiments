{
 "cells": [
  {
   "cell_type": "code",
   "execution_count": 9,
   "id": "20e51aec-8955-421a-bf08-674a180332ff",
   "metadata": {},
   "outputs": [],
   "source": [
    "x = 1"
   ]
  },
  {
   "cell_type": "code",
   "execution_count": null,
   "id": "26ba3cae-ea68-43aa-b612-f1b62c471542",
   "metadata": {},
   "outputs": [],
   "source": [
    "x += 3"
   ]
  },
  {
   "cell_type": "code",
   "execution_count": null,
   "id": "8e5c6aa9-2fd7-4726-8aad-6244b130245b",
   "metadata": {},
   "outputs": [],
   "source": [
    "print(x)"
   ]
  },
  {
   "cell_type": "code",
   "execution_count": null,
   "id": "31d79ce2-6c97-490f-bee2-d4c6fbff0e19",
   "metadata": {},
   "outputs": [],
   "source": [
    "y = 1"
   ]
  },
  {
   "cell_type": "code",
   "execution_count": null,
   "id": "7cadf6c0-a7e9-445e-9a18-5989e4f7618c",
   "metadata": {},
   "outputs": [],
   "source": [
    "x += 1"
   ]
  },
  {
   "cell_type": "code",
   "execution_count": 5,
   "id": "ec78c0d3-6efe-4fd4-9a05-dea56853c84f",
   "metadata": {},
   "outputs": [],
   "source": [
    "import numpy as np\n",
    "import pandas as pd"
   ]
  },
  {
   "cell_type": "code",
   "execution_count": 2,
   "id": "a350f798-dde7-4bbc-a8cb-8b300e8a093f",
   "metadata": {},
   "outputs": [],
   "source": [
    "x = np.random.uniform(4)"
   ]
  },
  {
   "cell_type": "code",
   "execution_count": 7,
   "id": "cf0ae2f7-66bb-46fd-af60-a38a62b722a8",
   "metadata": {},
   "outputs": [
    {
     "name": "stdout",
     "output_type": "stream",
     "text": [
      "1.8635457683450647\n"
     ]
    }
   ],
   "source": [
    "print(x)"
   ]
  },
  {
   "cell_type": "code",
   "execution_count": 8,
   "id": "e3694776-2980-4414-a93e-1d51a927b018",
   "metadata": {},
   "outputs": [
    {
     "name": "stdout",
     "output_type": "stream",
     "text": [
      "# Cell 1\n",
      "import numpy as np\n",
      "\n",
      "# Cell 2\n",
      "x = np.random.uniform(4)\n",
      "\n",
      "# Cell 7\n",
      "print(x)\n"
     ]
    }
   ],
   "source": [
    "%safety slice 7"
   ]
  },
  {
   "cell_type": "code",
   "execution_count": null,
   "id": "40baa23b-e54c-4a0d-8802-c2bee0e665bb",
   "metadata": {},
   "outputs": [],
   "source": []
  }
 ],
 "metadata": {
  "kernelspec": {
   "display_name": "Python 3 (nbsafety)",
   "language": "python",
   "name": "nbsafety"
  },
  "language_info": {
   "codemirror_mode": {
    "name": "ipython",
    "version": 3
   },
   "file_extension": ".py",
   "mimetype": "text/x-python",
   "name": "python",
   "nbconvert_exporter": "python",
   "pygments_lexer": "ipython3",
   "version": "3.8.6"
  }
 },
 "nbformat": 4,
 "nbformat_minor": 5
}
