{
 "cells": [
  {
   "cell_type": "markdown",
   "id": "1096e0c0-7527-4506-bf34-3a781321bf03",
   "metadata": {},
   "source": [
    "# Paper case study"
   ]
  },
  {
   "cell_type": "code",
   "execution_count": 1,
   "id": "a2b82507-5a53-4dd3-81e2-ee50560f16c8",
   "metadata": {},
   "outputs": [],
   "source": [
    "import numpy as np\n",
    "import pandas as pd\n",
    "import random\n",
    "import string"
   ]
  },
  {
   "cell_type": "code",
   "execution_count": 2,
   "id": "1fd13ba0-82af-4c3f-870a-13b090c021df",
   "metadata": {},
   "outputs": [],
   "source": [
    "# Parameters\n",
    "\n",
    "feature_columns = [\"feat1\", \"feat2\", \"feat3\", \"feat4\"]\n",
    "value_generator = lambda x: np.random.uniform(0, 1, x)\n",
    "num_samples = 100\n",
    "word_len = 5"
   ]
  },
  {
   "cell_type": "code",
   "execution_count": 3,
   "id": "ccec339c-a6fb-4e64-9e6f-2663a9b5082c",
   "metadata": {},
   "outputs": [],
   "source": [
    "# Generate ids randomly\n",
    "\n",
    "word = ''.join(random.choice(string.ascii_lowercase) for i in range(word_len))\n",
    "ids = [f'{word}_{i}' for i in range(num_samples)]"
   ]
  },
  {
   "cell_type": "code",
   "execution_count": 4,
   "id": "a46c75f8-febd-4e51-b14a-17b5ef4da1a7",
   "metadata": {},
   "outputs": [],
   "source": [
    "df = pd.DataFrame({'id': ids})"
   ]
  },
  {
   "cell_type": "code",
   "execution_count": 5,
   "id": "ccc7d13e-9065-4e3a-9c47-954e3ad44447",
   "metadata": {},
   "outputs": [],
   "source": [
    "df[feature_columns[0]] = value_generator(num_samples)"
   ]
  },
  {
   "cell_type": "code",
   "execution_count": 6,
   "id": "479720f7-f467-478a-8273-31d75d3a0a76",
   "metadata": {},
   "outputs": [],
   "source": [
    "df[feature_columns[1]] = value_generator(num_samples)"
   ]
  },
  {
   "cell_type": "code",
   "execution_count": 7,
   "id": "7a4bc11e-fbc5-4ced-9ef5-3012b4f4bf9f",
   "metadata": {},
   "outputs": [],
   "source": [
    "df[feature_columns[2]] = value_generator(num_samples)"
   ]
  },
  {
   "cell_type": "code",
   "execution_count": 8,
   "id": "a48eff85-791b-4d0e-87c8-b4fac8206669",
   "metadata": {},
   "outputs": [],
   "source": [
    "df[feature_columns[3]] = value_generator(num_samples)"
   ]
  },
  {
   "cell_type": "code",
   "execution_count": 9,
   "id": "a16c29e0-4722-403d-80b6-36fd682a912e",
   "metadata": {},
   "outputs": [
    {
     "name": "stdout",
     "output_type": "stream",
     "text": [
      "0.48667131589271606\n"
     ]
    }
   ],
   "source": [
    "print(df[feature_columns[0]].mean())"
   ]
  },
  {
   "cell_type": "code",
   "execution_count": 10,
   "id": "625f9136-2758-4488-92f6-b53db2a51e0b",
   "metadata": {},
   "outputs": [
    {
     "name": "stdout",
     "output_type": "stream",
     "text": [
      "# Cell 1\n",
      "import numpy as np\n",
      "import pandas as pd\n",
      "import random\n",
      "import string\n",
      "\n",
      "# Cell 2\n",
      "# Parameters\n",
      "\n",
      "feature_columns = [\"feat1\", \"feat2\", \"feat3\", \"feat4\"]\n",
      "value_generator = lambda x: np.random.uniform(0, 1, x)\n",
      "num_samples = 100\n",
      "word_len = 5\n",
      "\n",
      "# Cell 3\n",
      "# Generate ids randomly\n",
      "\n",
      "word = ''.join(random.choice(string.ascii_lowercase) for i in range(word_len))\n",
      "ids = [f'{word}_{i}' for i in range(num_samples)]\n",
      "\n",
      "# Cell 4\n",
      "df = pd.DataFrame({'id': ids})\n",
      "\n",
      "# Cell 5\n",
      "df[feature_columns[0]] = value_generator(num_samples)\n",
      "\n",
      "# Cell 9\n",
      "print(df[feature_columns[0]].mean())\n"
     ]
    }
   ],
   "source": [
    "%safety slice 9"
   ]
  },
  {
   "cell_type": "code",
   "execution_count": 12,
   "id": "9d7d2061-c230-4afa-90cd-c50802f022da",
   "metadata": {},
   "outputs": [
    {
     "name": "stdout",
     "output_type": "stream",
     "text": [
      "import numpy as np\n",
      "import pandas as pd\n",
      "import random\n",
      "import string\n",
      "# Parameters\n",
      "\n",
      "feature_columns = [\"feat1\", \"feat2\", \"feat3\", \"feat4\"]\n",
      "value_generator = lambda x: np.random.uniform(0, 1, x)\n",
      "num_samples = 100\n",
      "word_len = 5\n",
      "# Generate ids randomly\n",
      "\n",
      "word = ''.join(random.choice(string.ascii_lowercase) for i in range(word_len))\n",
      "ids = [f'{word}_{i}' for i in range(num_samples)]\n",
      "df = pd.DataFrame({'id': ids})\n",
      "df[feature_columns[0]] = value_generator(num_samples)\n",
      "df[feature_columns[1]] = value_generator(num_samples)\n",
      "df[feature_columns[2]] = value_generator(num_samples)\n",
      "df[feature_columns[3]] = value_generator(num_samples)\n",
      "print(df[feature_columns[0]].mean())\n",
      "%safety slice 9\n",
      "%%history\n",
      "%history\n"
     ]
    }
   ],
   "source": [
    "%history"
   ]
  },
  {
   "cell_type": "code",
   "execution_count": null,
   "id": "73fb3798-49e1-4324-968f-10aa4ab7c8af",
   "metadata": {},
   "outputs": [],
   "source": []
  }
 ],
 "metadata": {
  "kernelspec": {
   "display_name": "Python 3 (nbsafety)",
   "language": "python",
   "name": "nbsafety"
  },
  "language_info": {
   "codemirror_mode": {
    "name": "ipython",
    "version": 3
   },
   "file_extension": ".py",
   "mimetype": "text/x-python",
   "name": "python",
   "nbconvert_exporter": "python",
   "pygments_lexer": "ipython3",
   "version": "3.8.6"
  }
 },
 "nbformat": 4,
 "nbformat_minor": 5
}
