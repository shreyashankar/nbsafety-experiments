{
 "cells": [
  {
   "cell_type": "markdown",
   "metadata": {},
   "source": [
    "# EDA for traces.sqlite"
   ]
  },
  {
   "cell_type": "code",
   "execution_count": 1,
   "metadata": {},
   "outputs": [],
   "source": [
    "from IPython import get_ipython\n",
    "\n",
    "import pandas as pd\n",
    "import sqlite3"
   ]
  },
  {
   "cell_type": "code",
   "execution_count": 2,
   "metadata": {},
   "outputs": [],
   "source": [
    "conn = sqlite3.connect('../data/traces.sqlite', isolation_level=None)\n",
    "cursor = conn.cursor()"
   ]
  },
  {
   "cell_type": "code",
   "execution_count": 3,
   "metadata": {},
   "outputs": [
    {
     "data": {
      "text/plain": [
       "['cell_execs',\n",
       " 'good_sessions',\n",
       " 'bad_sessions',\n",
       " 'replay_exception_stats',\n",
       " 'replay_stats_old_old',\n",
       " 'replay_stats_old',\n",
       " 'replay_stats']"
      ]
     },
     "execution_count": 3,
     "metadata": {},
     "output_type": "execute_result"
    }
   ],
   "source": [
    "cursor.execute('SELECT name from sqlite_master where type= \"table\"')\n",
    "table_names = [elem[0] for elem in cursor.fetchall()]\n",
    "table_names"
   ]
  },
  {
   "cell_type": "code",
   "execution_count": 4,
   "metadata": {},
   "outputs": [
    {
     "data": {
      "text/html": [
       "<div>\n",
       "<style scoped>\n",
       "    .dataframe tbody tr th:only-of-type {\n",
       "        vertical-align: middle;\n",
       "    }\n",
       "\n",
       "    .dataframe tbody tr th {\n",
       "        vertical-align: top;\n",
       "    }\n",
       "\n",
       "    .dataframe thead th {\n",
       "        text-align: right;\n",
       "    }\n",
       "</style>\n",
       "<table border=\"1\" class=\"dataframe\">\n",
       "  <thead>\n",
       "    <tr style=\"text-align: right;\">\n",
       "      <th></th>\n",
       "      <th>trace</th>\n",
       "      <th>session</th>\n",
       "      <th>counter</th>\n",
       "      <th>source</th>\n",
       "    </tr>\n",
       "  </thead>\n",
       "  <tbody>\n",
       "    <tr>\n",
       "      <th>0</th>\n",
       "      <td>2</td>\n",
       "      <td>3</td>\n",
       "      <td>1</td>\n",
       "      <td>import fontforge</td>\n",
       "    </tr>\n",
       "    <tr>\n",
       "      <th>1</th>\n",
       "      <td>2</td>\n",
       "      <td>4</td>\n",
       "      <td>1</td>\n",
       "      <td>import powerline</td>\n",
       "    </tr>\n",
       "    <tr>\n",
       "      <th>2</th>\n",
       "      <td>2</td>\n",
       "      <td>5</td>\n",
       "      <td>1</td>\n",
       "      <td>get_ipython().magic(u'ls ')</td>\n",
       "    </tr>\n",
       "    <tr>\n",
       "      <th>3</th>\n",
       "      <td>2</td>\n",
       "      <td>5</td>\n",
       "      <td>2</td>\n",
       "      <td>get_ipython().system(u'ls best_links/')</td>\n",
       "    </tr>\n",
       "    <tr>\n",
       "      <th>4</th>\n",
       "      <td>2</td>\n",
       "      <td>5</td>\n",
       "      <td>3</td>\n",
       "      <td>bl = get_ipython().getoutput(u'ls best_links/')</td>\n",
       "    </tr>\n",
       "    <tr>\n",
       "      <th>5</th>\n",
       "      <td>2</td>\n",
       "      <td>5</td>\n",
       "      <td>4</td>\n",
       "      <td>bl</td>\n",
       "    </tr>\n",
       "    <tr>\n",
       "      <th>6</th>\n",
       "      <td>2</td>\n",
       "      <td>5</td>\n",
       "      <td>5</td>\n",
       "      <td>for ble in bl:\\n    print !find src -type f -n...</td>\n",
       "    </tr>\n",
       "    <tr>\n",
       "      <th>7</th>\n",
       "      <td>2</td>\n",
       "      <td>5</td>\n",
       "      <td>6</td>\n",
       "      <td>for ble in bl:\\n    get_ipython().system(u'fin...</td>\n",
       "    </tr>\n",
       "    <tr>\n",
       "      <th>8</th>\n",
       "      <td>2</td>\n",
       "      <td>5</td>\n",
       "      <td>7</td>\n",
       "      <td>for ble in bl:\\n    get_ipython().system(u'fin...</td>\n",
       "    </tr>\n",
       "    <tr>\n",
       "      <th>9</th>\n",
       "      <td>4</td>\n",
       "      <td>2</td>\n",
       "      <td>1</td>\n",
       "      <td>get_ipython().system('pwd ')</td>\n",
       "    </tr>\n",
       "  </tbody>\n",
       "</table>\n",
       "</div>"
      ],
      "text/plain": [
       "   trace  session  counter                                             source\n",
       "0      2        3        1                                   import fontforge\n",
       "1      2        4        1                                   import powerline\n",
       "2      2        5        1                        get_ipython().magic(u'ls ')\n",
       "3      2        5        2            get_ipython().system(u'ls best_links/')\n",
       "4      2        5        3    bl = get_ipython().getoutput(u'ls best_links/')\n",
       "5      2        5        4                                                 bl\n",
       "6      2        5        5  for ble in bl:\\n    print !find src -type f -n...\n",
       "7      2        5        6  for ble in bl:\\n    get_ipython().system(u'fin...\n",
       "8      2        5        7  for ble in bl:\\n    get_ipython().system(u'fin...\n",
       "9      4        2        1                       get_ipython().system('pwd ')"
      ]
     },
     "execution_count": 4,
     "metadata": {},
     "output_type": "execute_result"
    }
   ],
   "source": [
    "pd.read_sql_query(f\"SELECT * from cell_execs limit 10\", conn)"
   ]
  },
  {
   "cell_type": "code",
   "execution_count": 5,
   "metadata": {},
   "outputs": [],
   "source": [
    "good_execs = [1, 2, 4, 5, 6, 8, 10, 13, 14, 15, 17, 19, 21, 25, 28, 36, 37, 38, 40, 44, 58]\n",
    "good_execs = [str(elem) for elem in good_execs]\n",
    "good_execs = ', '.join(good_execs)\n",
    "#and counter IN ({good_execs})"
   ]
  },
  {
   "cell_type": "code",
   "execution_count": 6,
   "metadata": {},
   "outputs": [],
   "source": [
    "df = pd.read_sql_query(f\"SELECT cell_execs.* from cell_execs WHERE trace=135 and session=681\", conn)"
   ]
  },
  {
   "cell_type": "code",
   "execution_count": 7,
   "metadata": {},
   "outputs": [
    {
     "data": {
      "text/plain": [
       "['import pint',\n",
       " 'ureg = pint.registry.UnitRegistry()',\n",
       " 'time_per_cycle = 2 * ureg.nanosecond',\n",
       " 'import math',\n",
       " 'dir(math)',\n",
       " 'cycles_per_time = 1 // time_per_cycle',\n",
       " 'cycles_per_time = 1 / time_per_cycle',\n",
       " 'math.ceil(cycles_per_time)',\n",
       " 'math.ceil(cycles_per_time.m)',\n",
       " 'cycles_per_time',\n",
       " 'cycles_per_second = cycles_per_time.to_base_units()',\n",
       " 'math.ceil(cycles_per_second.m)',\n",
       " 'cycles_per_second',\n",
       " 'print(\"{:_}\".format(math.ceil(cycles_per_second.m)))',\n",
       " 'mips = cycles_per_second * / 10**6',\n",
       " 'mips = cycles_per_second / 10**6',\n",
       " 'mips',\n",
       " 'mips = cycles_per_second.m / 10**6',\n",
       " 'mips',\n",
       " 'mips = math.ceil(mips)',\n",
       " 'mips',\n",
       " '10 * 10**9',\n",
       " '\"{:_}\".format(10 * 10**9)',\n",
       " '\"{:_}\".format(10 * 10**6)',\n",
       " '1000000',\n",
       " 'a = 1000000',\n",
       " 'a.conjugate()',\n",
       " 'a.bit_length()',\n",
       " 'dir(math)',\n",
       " 'help(math.frexp)',\n",
       " 'math.frexp(a)',\n",
       " 'a',\n",
       " 'help(math)',\n",
       " '\"{:e}\".format(a)',\n",
       " 'ureg.nano',\n",
       " 'preg = pint.registry.PrefixDefinition',\n",
       " \"get_ipython().set_next_input('preg = pint.registry.PrefixDefinition');get_ipython().run_line_magic('pinfo', 'pint.registry.PrefixDefinition')\",\n",
       " \"get_ipython().set_next_input('preg = pint.registry.SystemRegistry');get_ipython().run_line_magic('pinfo', 'pint.registry.SystemRegistry')\",\n",
       " \"get_ipython().set_next_input('preg = pint.registry.UnitsContainer');get_ipython().run_line_magic('pinfo', 'pint.registry.UnitsContainer')\",\n",
       " 'help(pint)',\n",
       " 'help(pint.registry)',\n",
       " \"get_ipython().run_line_magic('pinfo', 'pint.definitions.PrefixDefinition')\",\n",
       " 'pint.definitions.PrefixDefinition.name',\n",
       " 'pint.definitions.PrefixDefinition',\n",
       " 'pint.definitions.PrefixDefinition()',\n",
       " 'pint.definitions.string_types',\n",
       " 'pint.unit',\n",
       " 'pint.unit.NUMERIC_TYPES',\n",
       " \"get_ipython().run_line_magic('pinfo', 'pint')\",\n",
       " 'help(pint)',\n",
       " 'help(pint.unit)',\n",
       " 'pint.nano',\n",
       " 'ureg.nanosecond',\n",
       " 'ureg.nanosecond.dimensionality()',\n",
       " 'ureg.nanosecond.default_format',\n",
       " 'ureg.sec',\n",
       " 'pint.registry.Definition.aliases',\n",
       " 'pint.registry.Definition',\n",
       " \"get_ipython().run_line_magic('pinfo', 'pint.registry.Definition')\",\n",
       " 'pint.registry.BaseRegistry',\n",
       " \"get_ipython().run_line_magic('pinfo', 'pint.registry.BaseRegistry')\",\n",
       " 'breg = pint.registry.BaseRegistry()',\n",
       " \"get_ipython().run_line_magic('pinfo', 'pint.registry.Definition')\",\n",
       " \"get_ipython().run_line_magic('pinfo', 'pint.registry.SystemRegistry')\",\n",
       " 'sreg = pint.registry.SystemRegistry()',\n",
       " \"get_ipython().set_next_input('sreg = pint.registry.UnitsContainer');get_ipython().run_line_magic('pinfo', 'pint.registry.UnitsContainer')\",\n",
       " 'sreg = pint.registry.UnitsContainer()',\n",
       " 'sreg',\n",
       " 'sreg = pint.registry.UnitDefinition()',\n",
       " 'sreg = pint.registry.UnitRegistry()',\n",
       " 'dir(sreg)',\n",
       " \"get_ipython().system('pydoc3 pint')\",\n",
       " \"get_ipython().run_line_magic('ls', '')\",\n",
       " 'mips',\n",
       " '10 * 10 ** 9',\n",
       " 'dumb_time_per_instruction = 10 * ureg.nanosecond',\n",
       " '1 / dumb_time_per_instruction',\n",
       " 'dumb_time_per_instruction = 1 / dumb_time_per_instruction',\n",
       " 'dumb_time_per_instruction',\n",
       " 'dumb_time_per_instruction.to_base_units()',\n",
       " 'dumb_time_per_instruction.to_base_units() / 10 ** 6',\n",
       " 'len(dumb_time_per_instruction.m)',\n",
       " 'len(int(dumb_time_per_instruction.m))',\n",
       " 'str(int(dumb_time_per_instruction.m))',\n",
       " 'int(dumb_time_per_instruction)',\n",
       " 'str(int(dumb_time_per_instruction.m))',\n",
       " '(int(dumb_time_per_instruction.m))',\n",
       " 'dumb_time_per_instruction.m',\n",
       " 'dumb_time_per_instruction',\n",
       " 'dumb_time_per_instruction.to_base_units()',\n",
       " 'len(str(dumb_time_per_instruction.to_base_units().m))',\n",
       " '10 ** 10',\n",
       " 'str(dumb_time_per_instruction.to_base_units().m)',\n",
       " 'dumb_time_per_instruction.to_base_units().m / 10 ** 9',\n",
       " 'dumb_time_per_instruction.to_base_units().m',\n",
       " 'dumb_time_per_instruction.to_base_units().m / 10**6',\n",
       " '10**6',\n",
       " '10 ** 9 / 2',\n",
       " 'print(\"{:_e}\".format(10 ** 9 / 2))',\n",
       " 'print(\"{:_d}\".format(10 ** 9 / 2))',\n",
       " 'print(\"{:_}\".format(int(10 ** 9 / 2)))',\n",
       " 'print(\"{:_}\".format(int(10 ** 9 / 2)) / 10 ** 6)',\n",
       " 'print(\"{:_}\".format(int(10 ** 9 / 2) / 10 ** 6))',\n",
       " 'def print_pipeline_specs(cycle_time_ns, stages):\\n    latency_ns = cycle_time_ns * stages\\n    print(\"Instruction latency: {} nanoseconds; {} seconds\".format(latency_ns, latency_ns / 10**9))\\n    instr_per_sec = 10**9 / cycle_time_ns\\n    mips = instr_per_sec / 10**6\\n    print(f\"Instructions per second: {instr_per_sec}\")\\n    print(f\"MIPS: {mips}\")\\n    ',\n",
       " 'print_pipeline_specs(2, 5)',\n",
       " 'def print_pipeline_specs(cycle_time_ns, stages):\\n    latency_ns = cycle_time_ns * stages\\n    print(\"Instruction latency: {} nanoseconds; {} seconds\".format(latency_ns, latency_ns / 10**9))\\n    instr_per_sec = 10**9 / cycle_time_ns\\n    mips = instr_per_sec / 10**6\\n    print(f\"Instructions per second: {instr_per_sec:_}\")\\n    print(f\"MIPS: {mips}\")\\n    \\n    ',\n",
       " 'print_pipeline_specs(2, 5)',\n",
       " '16 **2',\n",
       " '16 ** 32',\n",
       " '16 * 32',\n",
       " '512 / 32',\n",
       " 'inspersec = 4590 * 10 ** 6',\n",
       " 'inspersec',\n",
       " 'cpumhz = 1197.954',\n",
       " 'mhz = cpumhz * ureg.mhz',\n",
       " 'mhz = cpumhz * ureg.megahertz',\n",
       " 'mhz',\n",
       " 'mhz.to_base_units()',\n",
       " 'inspersec',\n",
       " 'cpufreq = 2.29 * ureg.gigahertz',\n",
       " 'cpufreq',\n",
       " 'cpufreq.to_base_units()',\n",
       " 'cpufreq.to_base_units().m / 10*6',\n",
       " 'cpufreq.to_base_units().m / 10*9',\n",
       " 'cpufreq.to_base_units().m',\n",
       " 'm = cpufreq.to_base_units().m',\n",
       " 'm',\n",
       " '\"{:_}\".format(m)',\n",
       " 'cpufreq = 1.49 * ureg.gigahertz',\n",
       " \"get_ipython().run_line_magic('ls', '')\",\n",
       " 'cpufreq.to_compact()',\n",
       " 'cpufreq',\n",
       " 'cpufreq.to_reduced_units()',\n",
       " \"get_ipython().run_line_magic('pinfo', 'cpufreq.clip')\",\n",
       " 'cpufreq.dimensionality',\n",
       " 'cpufreq.units',\n",
       " 'cpufreq.dimensionless',\n",
       " 'cpufreq.compatible_units()',\n",
       " 'cpufreq',\n",
       " 'cpufreq.to_base_units()',\n",
       " 'cpufreq.to_base_units().m / 10 ** 9',\n",
       " '2**8',\n",
       " 'def hamming(x, y):\\n    xor = x ^ y\\n    return len(bin(xor))\\n    ',\n",
       " 'hamming(10001001, 10110001)',\n",
       " \"def hamming(x, y):\\n    xor = x ^ y\\n    digits = bin(xor).split()\\n    return digits.count('1')\\n    \\n    \",\n",
       " 'hamming(10001001, 10110001)',\n",
       " \"def hamming(x, y):\\n    xor = x ^ y\\n    print(xor)\\n    digits = bin(xor).split()\\n    print(digits)\\n    return digits.count('1')\\n    \\n    \\n    \",\n",
       " 'hamming(10001001, 10110001)',\n",
       " \"def hamming(x, y):\\n    xor = x ^ y\\n    print(xor)\\n    digits = bin(xor).split()[2:]\\n    print(digits)\\n    return digits.count('1')\\n    \\n    \\n    \\n    \",\n",
       " 'hamming(10001001, 10110001)',\n",
       " \"def hamming(x, y):\\n    xor = x ^ y\\n    print(xor)\\n    digits = bin(xor).split()\\n    digits = digits[2:]\\n    print(digits)\\n    return digits.count('1')\\n    \\n    \\n    \\n    \\n    \",\n",
       " 'hamming(10001001, 10110001)',\n",
       " \"def hamming(x, y):\\n    xor = x ^ y\\n    print(xor)\\n    digits = bin(xor).split()\\n    print(digits)\\n    digits = digits[2:]\\n    print(digits)\\n    return digits.count('1')\\n    \\n    \\n    \\n    \\n    \\n    \",\n",
       " 'hamming(10001001, 10110001)',\n",
       " \"def hamming(x, y):\\n    xor = x ^ y\\n    print(xor)\\n    digits = bin(xor)\\n    print(digits)\\n    return digits.count('1')\\n    \\n    \\n    \\n    \\n    \\n    \\n    \",\n",
       " 'hamming(10001001, 10110001)',\n",
       " \"def hamming(x, y):\\n    xor = x ^ y\\n    print(xor)\\n    digits = bin(xor)\\n    digits = digits[2:].split()\\n    print(digits)\\n    return digits.count('1')\\n    \\n    \\n    \\n    \\n    \\n    \\n    \\n    \",\n",
       " 'hamming(10001001, 10110001)',\n",
       " 'def hamming(x, y):\\n    xor = x ^ y\\n    print(xor)\\n    digits = bin(xor)\\n    digits = digits[2:].split()\\n    print(digits)\\n    \\n    \\n    \\n    \\n    \\n    \\n    \\n    \\n    ',\n",
       " 'hamming(10001001, 10110001)',\n",
       " 'def hamming(x, y):\\n    xor = x ^ y\\n    print(xor)\\n    digits = bin(xor)\\n    digits = digits[2:].split()\\n    print(digits)\\n    \\n    \\n    \\n    \\n    \\n    \\n    \\n    \\n    ',\n",
       " 'hamming(10001001, 10110001)',\n",
       " \"def hamming(x, y):\\n    xor = x ^ y\\n    print(xor)\\n    digits = bin(xor)\\n    digits = digits[2:].split('')\\n    print(digits)\\n    \\n    \\n    \\n    \\n    \\n    \\n    \\n    \\n    \\n    \",\n",
       " 'hamming(10001001, 10110001)',\n",
       " 'def hamming(x, y):\\n    xor = x ^ y\\n    print(xor)\\n    digits = bin(xor)\\n    digits = [d for d in digits]\\n    print(digits)\\n    \\n    \\n    \\n    \\n    \\n    \\n    \\n    \\n    \\n    \\n    ',\n",
       " 'hamming(10001001, 10110001)',\n",
       " 'def hamming(x, y):\\n    xor = x ^ y\\n    print(xor)\\n    digits = bin(xor)\\n    digits = [d for d in digits[2:]]\\n    print(digits)\\n    \\n    \\n    \\n    \\n    \\n    \\n    \\n    \\n    \\n    \\n    \\n    ',\n",
       " 'hamming(10001001, 10110001)',\n",
       " \"def hamming(x, y):\\n    xor = x ^ y\\n    print(xor)\\n    digits = bin(xor)\\n    digits = [d for d in digits[2:]]\\n    print(digits)\\n    return digits.count('1')\\n    \\n    \\n    \\n    \\n    \\n    \\n    \\n    \\n    \\n    \\n    \\n    \",\n",
       " 'hamming(10001001, 10110001)',\n",
       " 'hamming(0b10001001, 0b10110001)',\n",
       " \"codelist = ['0' * 10, '0' * 5 + '1' * 5, '1' * 5 + '0' * 5, '1' * 10]\",\n",
       " 'codelist',\n",
       " 'int(codelist[0])',\n",
       " 'int(codelist[1])',\n",
       " 'int(codelist[1], base=2)',\n",
       " 'intcodelist = [int(d, base=2) for d in codelist]',\n",
       " 'intcodelist',\n",
       " '2**5',\n",
       " '2**4',\n",
       " '2**3',\n",
       " 'def num_req_checkbits(word_size):\\n    import math\\n    return math.log2(word_size) + 1\\n    ',\n",
       " 'num_req_checkbits(8)',\n",
       " 'def num_req_checkbits(word_size):\\n    import math\\n    return int(math.log2(word_size) + 1)\\n    \\n    ',\n",
       " 'num_req_checkbits(8)',\n",
       " 'num_req_checkbits(16)',\n",
       " 'num_req_checkbits(32)',\n",
       " 'num_req_checkbits(64)',\n",
       " 'num_req_checkbits(128)',\n",
       " 'def checkbit_overhead(word_size):\\n    checkbits = num_req_checkbits(word_size)\\n    return int(checkbits / word_size)\\n    ',\n",
       " 'checkbit_overhead(8)',\n",
       " 'def checkbit_overhead(word_size):\\n    checkbits = num_req_checkbits(word_size)\\n    return checkbits / word_size\\n    \\n    ',\n",
       " 'checkbit_overhead(8)',\n",
       " 'checkbit_overhead(16)',\n",
       " 'checkbit_overhead(4)',\n",
       " 'checkbit_overhead(4)',\n",
       " 'num_req_checkbits(4)',\n",
       " 'def ecc(word_size):\\n    pbcnt = [None]\\n    bits = [0] * word_size\\n    idxlist = pbcnt.extend(bits)\\n    print(idxlist)\\n    ',\n",
       " 'ecc(8)',\n",
       " 'def ecc(word_size):\\n    pbcnt = [None]\\n    bits = [0] * word_size\\n    print(bits)\\n    idxlist = pbcnt.extend(bits)\\n    print(idxlist)\\n    \\n    ',\n",
       " 'ecc(8)',\n",
       " 'def ecc(word_size):\\n    pbcnt = [None]\\n    bits = [0] * word_size\\n    print(bits)\\n    pbcnt.extend(bits)\\n    print(pbcnt)\\n    \\n    \\n    ',\n",
       " 'ecc(8)',\n",
       " 'def ecc(word_size):\\n    import math\\n    pbcnt = [None]\\n    bits = [0] * word_size\\n    pbcnt.extend(bits)\\n    is_parity_idx = []\\n    for i, n in enum(pbcnt):\\n        if n == None:\\n            continue\\n        if math.log2(i) % i == 0.5:\\n            print(i)\\n            is_parity_idx.append(True)\\n        else:\\n            is_parity_idx.append(False)\\n            \\n        \\n    \\n    ',\n",
       " 'ecc(8)',\n",
       " 'def ecc(word_size):\\n    import math\\n    pbcnt = [None]\\n    bits = [0] * word_size\\n    pbcnt.extend(bits)\\n    is_parity_idx = []\\n    for i, n in enumerate(pbcnt):\\n        if n == None:\\n            continue\\n        if math.log2(i) % i == 0.5:\\n            print(i)\\n            is_parity_idx.append(True)\\n        else:\\n            is_parity_idx.append(False)\\n            \\n        \\n    \\n    ',\n",
       " 'ecc(8)',\n",
       " 'def ecc(word_size):\\n    import math\\n    pbcnt = [None]\\n    bits = [0] * word_size\\n    pbcnt.extend(bits)\\n    is_parity_idx = []\\n    for i, n in enumerate(pbcnt):\\n        if n == None:\\n            continue\\n        if not math.log2(i) % i:\\n            print(i)\\n            is_parity_idx.append(True)\\n        else:\\n            is_parity_idx.append(False)\\n            \\n        \\n    \\n    ',\n",
       " 'ecc(8)',\n",
       " 'def ecc(word_size):\\n    import math\\n    pbcnt = [None]\\n    bits = [0] * word_size\\n    pbcnt.extend(bits)\\n    is_parity_idx = []\\n    for i, n in enumerate(pbcnt):\\n        if n == None:\\n            continue\\n        if math.log2(i) % i < 1:\\n            print(i)\\n            is_parity_idx.append(True)\\n        else:\\n            is_parity_idx.append(False)\\n            \\n        \\n    \\n    ',\n",
       " 'ecc(8)',\n",
       " 'def ecc(word_size):\\n    import math\\n    pbcnt = [None]\\n    bits = [0] * word_size\\n    pbcnt.extend(bits)\\n    is_parity_idx = []\\n    for i, n in enumerate(pbcnt):\\n        if n == None:\\n            continue\\n        if math.log2(i) % i:\\n            print(i)\\n            is_parity_idx.append(True)\\n        else:\\n            is_parity_idx.append(False)\\n            \\n        \\n    \\n    ',\n",
       " 'ecc(8)',\n",
       " 'def ecc(word_size):\\n    import math\\n    pbcnt = [None]\\n    bits = [0] * word_size\\n    pbcnt.extend(bits)\\n    is_parity_idx = []\\n    for i, n in enumerate(pbcnt):\\n        if n == None:\\n            continue\\n        if not math.log2(i) % i:\\n            print(i)\\n            is_parity_idx.append(True)\\n        else:\\n            is_parity_idx.append(False)\\n            \\n        \\n    \\n    ',\n",
       " 'ecc(8)',\n",
       " 'math.log2(1)',\n",
       " 'math.log2(2)',\n",
       " 'math.log2(3)',\n",
       " 'math.log2(4)',\n",
       " 'math.log2(4) / 4',\n",
       " 'math.log2(2) / 2',\n",
       " 'def ecc(word_size):\\n    import math\\n    pbcnt = [None]\\n    bits = [0] * word_size\\n    pbcnt.extend(bits)\\n    is_parity_idx = []\\n    for i, n in enumerate(pbcnt):\\n        if n == None:\\n            continue\\n        if  math.log2(i) % i == 0.5:\\n            print(i)\\n            is_parity_idx.append(True)\\n        else:\\n            is_parity_idx.append(False)\\n            \\n        \\n    \\n    ',\n",
       " 'math.log2(2) / 2',\n",
       " 'ecc(8)',\n",
       " 'def ecc(word_size):\\n    import math\\n    pbcnt = [None]\\n    bits = [0] * word_size\\n    pbcnt.extend(bits)\\n    is_parity_idx = []\\n    for i, n in enumerate(pbcnt):\\n        if i == 0:\\n            continue\\n        if  math.log2(i) % i == 0.5:\\n            print(i)\\n            is_parity_idx.append(True)\\n        else:\\n            is_parity_idx.append(False)\\n            \\n        \\n    \\n    ',\n",
       " 'ecc(8)',\n",
       " 'def ecc(word_size):\\n    import math\\n    pbcnt = [None]\\n    bits = [0] * word_size\\n    pbcnt.extend(bits)\\n    is_parity_idx = []\\n    for i, n in enumerate(pbcnt):\\n        if i == 0:\\n            continue\\n        if (math.log2(i) % i) == 0.5:\\n            print(i)\\n            is_parity_idx.append(True)\\n        else:\\n            is_parity_idx.append(False)\\n            \\n        \\n    \\n    ',\n",
       " 'ecc(8)',\n",
       " '0.5 % 1',\n",
       " '0.5 % 2',\n",
       " '1 % 2',\n",
       " 'def ecc(word_size):\\n    import math\\n    pbcnt = [None]\\n    bits = [0] * word_size\\n    pbcnt.extend(bits)\\n    is_parity_idx = []\\n    for i, n in enumerate(pbcnt):\\n        if i == 0:\\n            continue\\n        if i % 4 == 0:\\n            print(i)\\n            is_parity_idx.append(True)\\n        else:\\n            is_parity_idx.append(False)\\n            \\n            \\n        \\n    \\n    ',\n",
       " '1 % 2',\n",
       " 'ecc(8)',\n",
       " 'def ecc(word_size):\\n    import math\\n    pbcnt = [None]\\n    bits = [0] * word_size\\n    pbcnt.extend(bits)\\n    is_parity_idx = []\\n    for i, n in enumerate(pbcnt):\\n        if i == 0:\\n            continue\\n        if i % 2 == 0:\\n            print(i)\\n            is_parity_idx.append(True)\\n        else:\\n            is_parity_idx.append(False)\\n            \\n            \\n        \\n    \\n    ',\n",
       " 'ecc(8)',\n",
       " 'def ecc(word_size):\\n    import math\\n    pbcnt = [None]\\n    bits = [0] * word_size\\n    pbcnt.extend(bits)\\n    is_parity_idx = []\\n    for i, n in enumerate(pbcnt):\\n        if i == 0:\\n            continue\\n        if i % 2 == 0:\\n            print(i)\\n            is_parity_idx.append(True)\\n        else:\\n            is_parity_idx.append(False)\\n    return is_parity_idx\\n            \\n            \\n        \\n    \\n    ',\n",
       " 'parity_idx = ecc(8)',\n",
       " 'parity_idx',\n",
       " 'num_req_checkbits(8)',\n",
       " 'num_req_checkbits(16)',\n",
       " 'parity_idx = ecc(16)',\n",
       " 'parity_idx',\n",
       " 'len([p for p parity_idx if p])',\n",
       " 'len([p for p in parity_idx if p])',\n",
       " '1 % 2',\n",
       " '2 % 2',\n",
       " '4 % 2',\n",
       " 'math.log2(1)',\n",
       " 'math.log2(2)',\n",
       " 'math.log2(4)',\n",
       " 'def ecc(word_size):\\n    import math\\n    pbcnt = [None]\\n    bits = [0] * word_size\\n    pbcnt.extend(bits)\\n    is_parity_idx = []\\n    for i, n in enumerate(pbcnt):\\n        if i == 0:\\n            continue\\n        if i & 1 == 0:\\n            print(i)\\n            is_parity_idx.append(True)\\n        else:\\n            is_parity_idx.append(False)\\n    return is_parity_idx\\n            \\n            \\n        \\n    \\n    ',\n",
       " 'parity_idx = ecc(16)',\n",
       " 'def ecc(word_size):\\n    import math\\n    pbcnt = [None]\\n    bits = [0] * word_size\\n    pbcnt.extend(bits)\\n    is_parity_idx = []\\n    for i, n in enumerate(pbcnt):\\n        if i == 0:\\n            continue\\n        elif i == 1:\\n            is_parity_idx.append(True)\\n        elif i & 1 == 0:\\n            print(i)\\n            is_parity_idx.append(True)\\n        else:\\n            is_parity_idx.append(False)\\n    return is_parity_idx\\n    \\n            \\n            \\n        \\n    \\n    ',\n",
       " 'parity_idx = ecc(16)',\n",
       " 'def ecc(word_size):\\n    import math\\n    pbcnt = [None]\\n    bits = [0] * word_size\\n    pbcnt.extend(bits)\\n    is_parity_idx = []\\n    for i, n in enumerate(pbcnt):\\n        if i == 0:\\n            continue\\n        if i == 1:\\n            is_parity_idx.append(True)\\n            continue\\n        if i & 1 == 0:\\n            print(i)\\n            is_parity_idx.append(True)\\n        else:\\n            is_parity_idx.append(False)\\n    return is_parity_idx\\n    \\n            \\n            \\n        \\n    \\n    ',\n",
       " 'parity_idx = ecc(16)',\n",
       " 'def ecc(word_size):\\n    import math\\n    pbcnt = [None]\\n    bits = [0] * word_size\\n    pbcnt.extend(bits)\\n    is_parity_idx = []\\n    for i, n in enumerate(pbcnt):\\n        if i == 0:\\n            continue\\n        elif i == 1:\\n            is_parity_idx.append(True)\\n            continue\\n        elif i & 1 == 0:\\n            print(i)\\n            is_parity_idx.append(True)\\n        else:\\n            is_parity_idx.append(False)\\n    return is_parity_idx\\n    \\n    \\n            \\n            \\n        \\n    \\n    ',\n",
       " 'parity_idx = ecc(16)',\n",
       " 'parity_idx = ecc(16)',\n",
       " 'parity_idx',\n",
       " 'for i, n in enumerate(parity_idx):\\n    if n:\\n       print(i, n)\\n       ',\n",
       " 'def ecc(word_size):\\n    import math\\n    pbcnt = [None]\\n    bits = [0] * word_size\\n    pbcnt.extend(bits)\\n    is_parity_idx = []\\n    for i, n in enumerate(pbcnt):\\n        print(i, n)\\n        if i == 0:\\n            continue\\n        elif i == 1:\\n            is_parity_idx.append(True)\\n            continue\\n        elif i & 1 == 0:\\n            print(i)\\n            is_parity_idx.append(True)\\n        else:\\n            is_parity_idx.append(False)\\n    return is_parity_idx\\n    \\n    \\n    \\n            \\n            \\n        \\n    \\n    ',\n",
       " 'parity_idx = ecc(16)',\n",
       " 'parity_idx = ecc(16)',\n",
       " 'parity_idx ',\n",
       " 'parity_idx.insert(0, False)',\n",
       " 'parity_idx',\n",
       " 'for i, n in enumerate(parity_idx):\\n        if n:\\n       print(i, n)\\n\\n       ',\n",
       " 'for i, n in enumerate(parity_idx):\\n    if n:\\n       print(i, n)\\n       \\n\\n       ']"
      ]
     },
     "execution_count": 7,
     "metadata": {},
     "output_type": "execute_result"
    }
   ],
   "source": [
    "df.sort_values('counter')['source'].to_list()"
   ]
  },
  {
   "cell_type": "code",
   "execution_count": 10,
   "metadata": {},
   "outputs": [
    {
     "ename": "ModuleNotFoundError",
     "evalue": "No module named 'torch'",
     "output_type": "error",
     "traceback": [
      "\u001b[0;31m---------------------------------------------------------------------------\u001b[0m",
      "\u001b[0;31mModuleNotFoundError\u001b[0m                       Traceback (most recent call last)",
      "\u001b[0;32m<ipython-input-10-eb42ca6e4af3>\u001b[0m in \u001b[0;36m<module>\u001b[0;34m\u001b[0m\n\u001b[0;32m----> 1\u001b[0;31m \u001b[0;32mimport\u001b[0m \u001b[0mtorch\u001b[0m\u001b[0;34m\u001b[0m\u001b[0;34m\u001b[0m\u001b[0m\n\u001b[0m",
      "\u001b[0;31mModuleNotFoundError\u001b[0m: No module named 'torch'"
     ]
    }
   ],
   "source": [
    "import torch"
   ]
  },
  {
   "cell_type": "code",
   "execution_count": 25,
   "metadata": {},
   "outputs": [],
   "source": [
    "modelf = \"/home/daniel/repositories/cds_user_apps/trunk/sus/l1/models/l1susmc1.mdl\""
   ]
  },
  {
   "cell_type": "code",
   "execution_count": 26,
   "metadata": {},
   "outputs": [
    {
     "ename": "NameError",
     "evalue": "name 'armadillo' is not defined",
     "output_type": "error",
     "traceback": [
      "\u001b[0;31m---------------------------------------------------------------------------\u001b[0m",
      "\u001b[0;31mNameError\u001b[0m                                 Traceback (most recent call last)",
      "\u001b[0;32m<ipython-input-26-c00ed2390f5b>\u001b[0m in \u001b[0;36m<module>\u001b[0;34m\u001b[0m\n\u001b[0;32m----> 1\u001b[0;31m \u001b[0mmodel\u001b[0m \u001b[0;34m=\u001b[0m \u001b[0marmadillo\u001b[0m\u001b[0;34m.\u001b[0m\u001b[0mModel\u001b[0m\u001b[0;34m(\u001b[0m\u001b[0mmodelf\u001b[0m\u001b[0;34m)\u001b[0m\u001b[0;34m\u001b[0m\u001b[0;34m\u001b[0m\u001b[0m\n\u001b[0m",
      "\u001b[0;31mNameError\u001b[0m: name 'armadillo' is not defined"
     ]
    }
   ],
   "source": [
    "model = armadillo.Model(modelf)"
   ]
  },
  {
   "cell_type": "code",
   "execution_count": 27,
   "metadata": {},
   "outputs": [
    {
     "ename": "NameError",
     "evalue": "name 'model' is not defined",
     "output_type": "error",
     "traceback": [
      "\u001b[0;31m---------------------------------------------------------------------------\u001b[0m",
      "\u001b[0;31mNameError\u001b[0m                                 Traceback (most recent call last)",
      "\u001b[0;32m<ipython-input-27-7c567416c9c9>\u001b[0m in \u001b[0;36m<module>\u001b[0;34m\u001b[0m\n\u001b[0;32m----> 1\u001b[0;31m \u001b[0mmodel\u001b[0m\u001b[0;34m.\u001b[0m\u001b[0mconnections\u001b[0m\u001b[0;34m\u001b[0m\u001b[0;34m\u001b[0m\u001b[0m\n\u001b[0m",
      "\u001b[0;31mNameError\u001b[0m: name 'model' is not defined"
     ]
    }
   ],
   "source": [
    "model.connections"
   ]
  },
  {
   "cell_type": "code",
   "execution_count": 33,
   "metadata": {},
   "outputs": [
    {
     "name": "stdout",
     "output_type": "stream",
     "text": [
      "# Cell 27\n",
      "model.connections\n"
     ]
    }
   ],
   "source": [
    "%safety slice 27"
   ]
  },
  {
   "cell_type": "code",
   "execution_count": 34,
   "metadata": {},
   "outputs": [],
   "source": [
    "def find_goto_source(name):\n",
    "    \"\"\"\\n    Find the block which a goto is connected to\\n    \"\"\"\n",
    "    for connection in model.connections:\n",
    "        #print connection.start\n",
    "        if connection.end[0] == name:\n",
    "            return connection.start"
   ]
  },
  {
   "cell_type": "code",
   "execution_count": 36,
   "metadata": {},
   "outputs": [
    {
     "name": "stdout",
     "output_type": "stream",
     "text": [
      "# Cell 34\n",
      "def find_goto_source(name):\n",
      "    \"\"\"\\n    Find the block which a goto is connected to\\n    \"\"\"\n",
      "    for connection in model.connections:\n",
      "        #print connection.start\n",
      "        if connection.end[0] == name:\n",
      "            return connection.start\n"
     ]
    }
   ],
   "source": [
    "%safety slice 34"
   ]
  },
  {
   "cell_type": "code",
   "execution_count": null,
   "metadata": {},
   "outputs": [],
   "source": []
  }
 ],
 "metadata": {
  "kernelspec": {
   "display_name": "Python 3.8.6 64-bit ('myenv': conda)",
   "language": "python",
   "name": "python386jvsc74a57bd0effa974f0ac32bf201e9686e12aef58907bbebe554aab4650470aed65ffceff7"
  },
  "language_info": {
   "codemirror_mode": {
    "name": "ipython",
    "version": 3
   },
   "file_extension": ".py",
   "mimetype": "text/x-python",
   "name": "python",
   "nbconvert_exporter": "python",
   "pygments_lexer": "ipython3",
   "version": "3.8.6"
  },
  "metadata": {
   "interpreter": {
    "hash": "effa974f0ac32bf201e9686e12aef58907bbebe554aab4650470aed65ffceff7"
   }
  }
 },
 "nbformat": 4,
 "nbformat_minor": 4
}
